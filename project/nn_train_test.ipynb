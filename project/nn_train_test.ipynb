{
  "nbformat": 4,
  "nbformat_minor": 0,
  "metadata": {
    "colab": {
      "name": "DM2583",
      "provenance": [],
      "collapsed_sections": []
    },
    "kernelspec": {
      "name": "python3",
      "display_name": "Python 3"
    },
    "accelerator": "GPU"
  },
  "cells": [
    {
      "cell_type": "markdown",
      "metadata": {
        "id": "6J_03eODkqGo"
      },
      "source": [
        "Set up nltk for preprocessing"
      ]
    },
    {
      "cell_type": "code",
      "metadata": {
        "id": "uQV6nXCwJE_8",
        "outputId": "2c22d601-dae8-4f26-d735-cf15fd28eb88",
        "colab": {
          "base_uri": "https://localhost:8080/",
          "height": 69
        }
      },
      "source": [
        "import nltk\n",
        "nltk.download(\"stopwords\")"
      ],
      "execution_count": 2,
      "outputs": [
        {
          "output_type": "stream",
          "text": [
            "[nltk_data] Downloading package stopwords to /root/nltk_data...\n",
            "[nltk_data]   Unzipping corpora/stopwords.zip.\n"
          ],
          "name": "stdout"
        },
        {
          "output_type": "execute_result",
          "data": {
            "text/plain": [
              "True"
            ]
          },
          "metadata": {
            "tags": []
          },
          "execution_count": 2
        }
      ]
    },
    {
      "cell_type": "markdown",
      "metadata": {
        "id": "Ax4ra0Mmkt52"
      },
      "source": [
        "Connect to drive and move to folder with the data (needs to be uploaded by you!)"
      ]
    },
    {
      "cell_type": "code",
      "metadata": {
        "id": "R3NIYpHzkUwR",
        "outputId": "f610bd35-9abb-45ef-959e-06dc007f127c",
        "colab": {
          "base_uri": "https://localhost:8080/",
          "height": 34
        }
      },
      "source": [
        "from google.colab import drive\n",
        "drive.mount('/content/drive')"
      ],
      "execution_count": 3,
      "outputs": [
        {
          "output_type": "stream",
          "text": [
            "Drive already mounted at /content/drive; to attempt to forcibly remount, call drive.mount(\"/content/drive\", force_remount=True).\n"
          ],
          "name": "stdout"
        }
      ]
    },
    {
      "cell_type": "code",
      "metadata": {
        "id": "kA6T9G9ekd2f",
        "outputId": "fb008004-4f24-4bf1-c2d1-fc8efa3f964f",
        "colab": {
          "base_uri": "https://localhost:8080/",
          "height": 34
        }
      },
      "source": [
        "cd /content/drive/My Drive/Colab Notebooks"
      ],
      "execution_count": 4,
      "outputs": [
        {
          "output_type": "stream",
          "text": [
            "/content/drive/My Drive/Colab Notebooks\n"
          ],
          "name": "stdout"
        }
      ]
    },
    {
      "cell_type": "markdown",
      "metadata": {
        "id": "n-Ofb_W7k1X-"
      },
      "source": [
        "Run this script to train and test the model!"
      ]
    },
    {
      "cell_type": "code",
      "metadata": {
        "id": "s4QJenwQbJSO",
        "outputId": "8b30f775-d7d4-49fe-e0ef-64598afae30a",
        "colab": {
          "base_uri": "https://localhost:8080/",
          "height": 69
        }
      },
      "source": [
        "ls"
      ],
      "execution_count": 5,
      "outputs": [
        {
          "output_type": "stream",
          "text": [
            "dictionary.json   nn_model.py       reviews_test.csv   Tokenizer.py\n",
            "DM2583            \u001b[0m\u001b[01;34m__pycache__\u001b[0m/      reviews_train.csv\n",
            "NeuralNetwork.py  reviews_eval.csv  \u001b[01;34msaved_models\u001b[0m/\n"
          ],
          "name": "stdout"
        }
      ]
    },
    {
      "cell_type": "code",
      "metadata": {
        "id": "ATRDNk8JKk0i",
        "outputId": "f7c4fd79-b701-4a8f-ba1f-02913e275a9a",
        "colab": {
          "base_uri": "https://localhost:8080/",
          "height": 1000
        }
      },
      "source": [
        "import pandas as pd\n",
        "from pandas import DataFrame\n",
        "import numpy as np\n",
        "# pytorch imports\n",
        "import torch\n",
        "import torch.nn as nn\n",
        "import torch.nn.functional as F\n",
        "import torch.optim as optim\n",
        "from torch.utils.data import TensorDataset, DataLoader\n",
        "from sklearn.feature_extraction.text import TfidfVectorizer\n",
        "\n",
        "import matplotlib.pyplot as plt\n",
        "from nn_model import SentimentLSTM, SentimentCNN, SentimentFC\n",
        "import os\n",
        "import glob\n",
        "from Tokenizer import tokenize_reviews\n",
        "from sklearn.metrics import plot_confusion_matrix, confusion_matrix, ConfusionMatrixDisplay\n",
        "import json\n",
        "import nltk\n",
        "\n",
        "nltk.download('punkt')\n",
        "\n",
        "vocab_size = 0\n",
        "def dataloader_from_sparse_matrix(sparse, ground_truth, batch_size):\n",
        "    \"\"\"\n",
        "     Converts a sparse matrix to a pytorch dataloader\n",
        "     Used to make the tf-idf useful with the NN\n",
        "    \"\"\"\n",
        "    sparse = sparse.tocoo()\n",
        "    values = sparse.data\n",
        "    indices = np.vstack((sparse.row, sparse.col))\n",
        "    i = torch.LongTensor(indices)\n",
        "    v = torch.tensor(values)\n",
        "    shape = sparse.shape\n",
        "\n",
        "    dataset = TensorDataset(torch.sparse.FloatTensor(\n",
        "        i, v, torch.Size(shape)).float(), torch.tensor(ground_truth))\n",
        "    data_loader = DataLoader(dataset, shuffle=True, batch_size=batch_size)\n",
        "    return data_loader\n",
        "\n",
        "def dataloader_from_csv(in_data, ground_truth, batch_size):\n",
        "    global word_to_int\n",
        "    dataset = TensorDataset(torch.tensor(tokenize_reviews(in_data, 'dictionary.json', 500)), torch.tensor(ground_truth))\n",
        "    data_loader = DataLoader(dataset, shuffle=True, batch_size=batch_size)\n",
        "    return data_loader\n",
        "\n",
        "\n",
        "with open(\"dictionary.json\", 'r') as f:\n",
        "  word_to_int = json.load(f)\n",
        "  vocab_size = len(word_to_int.keys())\n",
        "# print(f\"dictionary size:{len(word_to_int)}\")\n",
        "# hyperparameters\n",
        "NUM_EPOCHS = 1\n",
        "EMBEDDING_DIM = int(vocab_size ** 0.25) # rule of thumb from: https://developers.googleblog.com/2017/11/introducing-tensorflow-feature-columns.html\n",
        "HIDDEN_DIM = 32\n",
        "LEARNING_RATE = 0.0005  # will be adjustable, we're using ADAM\n",
        "BATCH_SIZE = 64  # we have a lot of data and not a lot of time\n",
        "\n",
        "#NOTE: you probably want to run this on colab, since it requires quite a lot of RAM\n",
        "\n",
        "type_dict = {\"text\": \"string\", \"Sentiment\": int}\n",
        "\n",
        "device = 0\n",
        "print(f\"Embedding dimensionality: {EMBEDDING_DIM}\")\n",
        "# vectorizer = TfidfVectorizer(\n",
        "#     max_features=2500, norm='l2', stop_words=stopwords.words('english'))\n",
        "\n",
        "model = 0\n",
        "def train():\n",
        "    model_file_name = \"\"\n",
        "    global device\n",
        "    global word_to_int\n",
        "    # read training data\n",
        "    train_df = pd.read_csv(\"reviews_train.csv\", header=None, skiprows=[0],\n",
        "                           names=[\"text\", \"Sentiment\"])\n",
        "    train_df.dropna(inplace=True)\n",
        "    print(\"training vectorizer\")\n",
        "    #train_text = vectorizer.fit_transform(train_df[\"text\"].values)\n",
        "\n",
        "    print('loading and fitting eval data')\n",
        "    eval_df = pd.read_csv(\"reviews_eval.csv\", header=None, skiprows=[0],\n",
        "                          names=[\"text\", \"Sentiment\"])\n",
        "    # eval_df.data = clean_data(eval_df.data)\n",
        "    print(eval_df.head())\n",
        "    eval_df.dropna(inplace=True)\n",
        "    #val_text = vectorizer.transform(eval_df[\"text\"].values)\n",
        "\n",
        "    # convert to pytorch format\n",
        "    print(\"converting data\")\n",
        "    train_loader = dataloader_from_csv(\n",
        "        train_df[\"text\"].values, train_df[\"Sentiment\"].values, BATCH_SIZE)\n",
        "    val_loader = dataloader_from_csv(\n",
        "        eval_df[\"text\"].values, eval_df[\"Sentiment\"].values, BATCH_SIZE)\n",
        "\n",
        "    # test code to chec that the conversion works\n",
        "    dataiter = iter(train_loader)\n",
        "    sample_x, sample_y = dataiter.next()\n",
        "    print(f\"sample input size: {sample_x.size()}\")\n",
        "    print(\"sample input: \", sample_x)\n",
        "    print()\n",
        "    print('Sample label size: ', sample_y.size())  # batch_size\n",
        "    print('Sample label: \\n', sample_y)\n",
        "\n",
        "    model = SentimentLSTM(vocab_size, output_size=3, embedding_dim=EMBEDDING_DIM,hidden_dim=HIDDEN_DIM)\n",
        "    model.to(device)\n",
        "\n",
        "    loss_function = nn.CrossEntropyLoss() \n",
        "    # Adam optimizer, better convergence than standard SGD\n",
        "    optimizer = optim.Adam(model.parameters(), lr=LEARNING_RATE)\n",
        "\n",
        "    print(\"starting training...\")\n",
        "\n",
        "    best_val_acc = 0  # large number as placeholder\n",
        "    train_iter = 0\n",
        "    train_losses = []\n",
        "    validation_accs = []\n",
        "    x_coords = []\n",
        "    for i in range(NUM_EPOCHS):\n",
        "        # train for one epoch\n",
        "        model = model.train()\n",
        "        for review, sentiment in train_loader:\n",
        "            #print(sentiment.size())\n",
        "            review = review.to(device)\n",
        "            sentiment = sentiment.to(device)\n",
        "            model.zero_grad()  # reset gradient after each batch\n",
        "            # add sequence lenght of 1 for lstm\n",
        "            probabilities = model(review)\n",
        "            # squueze away sequence length\n",
        "            loss = loss_function(probabilities, sentiment)\n",
        "            train_iter = train_iter + 1\n",
        "            loss.backward()\n",
        "            optimizer.step()\n",
        "            if (train_iter % 500 == 0):\n",
        "                print(f\"iteration: {train_iter}, loss {loss.item()}\")\n",
        "                train_losses.append(loss.item())\n",
        "                x_coords.append(train_iter)\n",
        "                print(\"calculating accuracy on validation data\")\n",
        "                with torch.no_grad():  # we don't need to calcualte gradients on validation, so we save some memory here\n",
        "                  dev_loss = 0\n",
        "                  dev_n_correct = 0\n",
        "                  total = len(val_loader.dataset)\n",
        "                  accuracy= 0\n",
        "                  for val_review, val_sentiment in val_loader:\n",
        "                      val_review, val_sentiment = val_review.to(device), val_sentiment.to(device)\n",
        "                      result = model(val_review)\n",
        "                      dev_loss = loss_function(result, val_sentiment)\n",
        "                      _, predicted = torch.max(result.data, 1)\n",
        "                      dev_n_correct += (predicted == val_sentiment).sum().item()\n",
        "                  accuracy = 100 * dev_n_correct / total\n",
        "                  validation_accs.append(accuracy)\n",
        "                  print(f\"validation accuracy: {accuracy}\")\n",
        "                  print(f\"validation done, loss: {dev_loss.item()}\")\n",
        "                  #if accuracy > best_val_acc:\n",
        "                      #print(\"new best model, saving..\")\n",
        "                      #best_val_loss = loss.item()\n",
        "                      #best_val_acc = accuracy\n",
        "                      #model_save_prefix = os.path.join( os.getcwd(), \"saved_models\", \"saved-\")\n",
        "                      #model_save_path = model_save_prefix +  f\"LSTM-acc-{accuracy}.pt\"\n",
        "                      #model_file_name = f\"LSTM-acc-{accuracy}.pt\"\n",
        "                      #torch.save(model.state_dict(), model_save_path)\n",
        "                      #for f in glob.glob(model_save_prefix + '*'):\n",
        "                          #if f != model_save_path:\n",
        "                              #os.remove(f)        \n",
        "    \n",
        "    f, (ax1,ax2) = plt.subplots(1,2)\n",
        "    ax1.plot(x_coords, train_losses, label=\"Training loss\")\n",
        "    ax1.set_title(\"training losses\")\n",
        "    ax2.plot(x_coords, validation_accs, label=\"Validation accuracy\")\n",
        "    ax2.set_title(\"Validation accuracy\")\n",
        "\n",
        "    plt.show()\n",
        "\n",
        "    return model_file_name\n",
        "\n",
        "# test the network here\n",
        "\n",
        "\n",
        "def test(model_filename):\n",
        "    # load test data\n",
        "    global device\n",
        "    global word_to_int\n",
        "    print('loading and fitting test data')\n",
        "    test_df = pd.read_csv(\"reviews_test.csv\", header=None, skiprows=[0],\n",
        "                          names=[\"text\", \"Sentiment\"])\n",
        "    # eval_df.data = clean_data(eval_df.data)\n",
        "    print(test_df.head())\n",
        "    test_df.dropna(inplace=True)\n",
        "    #test_text = vectorizer.transform(test_df[\"text\"].values)\n",
        "    testloader = dataloader_from_csv(\n",
        "        test_df[\"text\"].values, test_df[\"Sentiment\"].values, BATCH_SIZE)\n",
        "\n",
        "    dataiter = iter(testloader)\n",
        "    sample_x, sample_y = dataiter.next()\n",
        "    print(f\"sample input size: {sample_x.size()}\")\n",
        "    print(\"sample input: \", sample_x)\n",
        "    print()\n",
        "    print('Sample label size: ', sample_y.size())  # batch_size\n",
        "    print('Sample label: \\n', sample_y)\n",
        "    # load model\n",
        "    model_load_path = os.path.join(os.getcwd(), 'saved_models', model_filename)\n",
        "    # TODO: instantiate correctly.\n",
        "    model = SentimentLSTM(vocab_size, output_size=3, embedding_dim=EMBEDDING_DIM,hidden_dim=HIDDEN_DIM)\n",
        "    model.to(device)\n",
        "    print(\"laoding model\")\n",
        "    model.load_state_dict(torch.load(model_load_path))\n",
        "    print(\"finished loading state dict\")\n",
        "    model.eval()\n",
        "    iter_step = 0\n",
        "    correct = 0\n",
        "    total = len(testloader.dataset)\n",
        "    predictions = []\n",
        "    groundTruth = []\n",
        "    with torch.no_grad():\n",
        "        for reviews, sentiments in testloader:\n",
        "            reviews, sentiments = reviews.to(device), sentiments.to(device)\n",
        "            result = model(reviews)\n",
        "            _, predicted = torch.max(result.data, 1)\n",
        "            correct +=  (predicted == sentiments).sum().item()\n",
        "            predictions.extend(predicted.tolist()) #convert to list for confusion matrix\n",
        "            groundTruth.extend(sentiments.tolist())\n",
        "            iter_step += 1\n",
        "            if(iter_step % 1000 == 0):\n",
        "              print(f\"\\r {iter_step}\", end=\"\")\n",
        "    accuracy = 100 * correct / total\n",
        "    #plot_confusion_matrix(predictions, groundTruth)\n",
        "    cm = confusion_matrix(groundTruth, predictions,labels=[0, 1, 2], normalize='true')\n",
        "    cmd = ConfusionMatrixDisplay(cm, display_labels=[0,1,2]).plot()\n",
        "    return accuracy\n",
        "\n",
        "\n",
        "def main():\n",
        "    global device\n",
        "    device = 'cuda' if torch.cuda.is_available() else 'cpu'\n",
        "    print(f\"training on {device} for {NUM_EPOCHS} epochs\")\n",
        "    model_file_name = train()\n",
        "    print(\"done training\")\n",
        "    #model_file_name = \"saved-LSTM-acc-86.91171734830013.pt\" #replace with train() if we want to create a new model\n",
        "    print(\"testing\")\n",
        "    accuracy = test(model_file_name)\n",
        "    print(f\"final test accuracy: {accuracy}\")\n",
        "\n",
        "\n",
        "main()\n"
      ],
      "execution_count": null,
      "outputs": [
        {
          "output_type": "stream",
          "text": [
            "[nltk_data] Downloading package punkt to /root/nltk_data...\n",
            "[nltk_data]   Unzipping tokenizers/punkt.zip.\n",
            "Embedding dimensionality: 25\n",
            "training on cuda for 1 epochs\n",
            "training vectorizer\n",
            "loading and fitting eval data\n",
            "                                                text  Sentiment\n",
            "0  the service here is pretty crap but the food i...          2\n",
            "1  i chose this restaurant for my extended birthd...          1\n",
            "2  i hate to do this but about two months ago my ...          0\n",
            "3  terrific ribs mediocre cole slaw good service ...          2\n",
            "4  my experience at this toys r us location was g...          2\n",
            "converting data\n",
            "sample input size: torch.Size([64, 500])\n",
            "sample input:  tensor([[   0,    0,    0,  ...,   68,  348,  542],\n",
            "        [   0,    0,    0,  ..., 2626,   48,  106],\n",
            "        [   0,    0,    0,  ...,   17,  163, 2131],\n",
            "        ...,\n",
            "        [   0,    0,    0,  ...,   27,   17, 1386],\n",
            "        [   0,    0,    0,  ..., 1336,   32, 2165],\n",
            "        [   0,    0,    0,  ...,  345,   43,  222]])\n",
            "\n",
            "Sample label size:  torch.Size([64])\n",
            "Sample label: \n",
            " tensor([2, 2, 1, 2, 2, 0, 2, 2, 2, 2, 1, 2, 2, 2, 2, 2, 2, 2, 1, 0, 2, 0, 2, 0,\n",
            "        0, 2, 0, 2, 2, 2, 1, 2, 2, 0, 2, 2, 1, 1, 0, 1, 2, 2, 0, 0, 2, 1, 0, 0,\n",
            "        0, 2, 2, 2, 2, 2, 0, 0, 0, 2, 2, 0, 2, 0, 2, 0])\n",
            "starting training...\n",
            "iteration: 500, loss 0.7760927081108093\n",
            "calculating accuracy on validation data\n",
            "validation accuracy: 70.76213468919954\n",
            "validation done, loss: 0.5616238117218018\n",
            "iteration: 1000, loss 0.5145652294158936\n",
            "calculating accuracy on validation data\n",
            "validation accuracy: 76.95574166268294\n",
            "validation done, loss: 0.5897417068481445\n",
            "iteration: 1500, loss 0.5835462212562561\n",
            "calculating accuracy on validation data\n",
            "validation accuracy: 80.43548267730237\n",
            "validation done, loss: 0.6923949122428894\n",
            "iteration: 2000, loss 0.5292195677757263\n",
            "calculating accuracy on validation data\n",
            "validation accuracy: 81.03554148306534\n",
            "validation done, loss: 0.587439239025116\n",
            "iteration: 2500, loss 0.4385753273963928\n",
            "calculating accuracy on validation data\n",
            "validation accuracy: 81.85442173332987\n",
            "validation done, loss: 0.4098736643791199\n",
            "iteration: 3000, loss 0.3116716146469116\n",
            "calculating accuracy on validation data\n",
            "validation accuracy: 83.42597574562308\n",
            "validation done, loss: 0.4443245828151703\n",
            "iteration: 3500, loss 0.5643487572669983\n",
            "calculating accuracy on validation data\n",
            "validation accuracy: 83.71160373716624\n",
            "validation done, loss: 0.36363837122917175\n",
            "iteration: 4000, loss 0.6251943111419678\n",
            "calculating accuracy on validation data\n",
            "validation accuracy: 84.26785825010852\n",
            "validation done, loss: 0.33267852663993835\n",
            "iteration: 4500, loss 0.5716844797134399\n",
            "calculating accuracy on validation data\n",
            "validation accuracy: 84.38646987404766\n",
            "validation done, loss: 0.47179752588272095\n",
            "iteration: 5000, loss 0.37142446637153625\n",
            "calculating accuracy on validation data\n",
            "validation accuracy: 84.33906522839239\n",
            "validation done, loss: 0.4270075261592865\n",
            "iteration: 5500, loss 0.5862613916397095\n",
            "calculating accuracy on validation data\n",
            "validation accuracy: 84.97052711165695\n",
            "validation done, loss: 0.36252233386039734\n",
            "iteration: 6000, loss 0.4989144802093506\n",
            "calculating accuracy on validation data\n",
            "validation accuracy: 84.91712187794404\n",
            "validation done, loss: 0.37738585472106934\n",
            "iteration: 6500, loss 0.30233508348464966\n",
            "calculating accuracy on validation data\n",
            "validation accuracy: 85.32016137581483\n",
            "validation done, loss: 0.4030446708202362\n",
            "iteration: 7000, loss 0.3140769898891449\n",
            "calculating accuracy on validation data\n",
            "validation accuracy: 85.45017411706347\n",
            "validation done, loss: 0.21115759015083313\n",
            "iteration: 7500, loss 0.37446677684783936\n",
            "calculating accuracy on validation data\n",
            "validation accuracy: 85.1131410878266\n",
            "validation done, loss: 0.30232977867126465\n",
            "iteration: 8000, loss 0.39991581439971924\n",
            "calculating accuracy on validation data\n",
            "validation accuracy: 85.46437550879986\n",
            "validation done, loss: 0.533890962600708\n",
            "iteration: 8500, loss 0.23572887480258942\n",
            "calculating accuracy on validation data\n",
            "validation accuracy: 85.43697282333669\n",
            "validation done, loss: 0.42659953236579895\n",
            "iteration: 9000, loss 0.3485042154788971\n",
            "calculating accuracy on validation data\n",
            "validation accuracy: 85.92302045600469\n",
            "validation done, loss: 0.4687410593032837\n",
            "iteration: 9500, loss 0.34374135732650757\n",
            "calculating accuracy on validation data\n",
            "validation accuracy: 85.46277535198449\n",
            "validation done, loss: 0.6337980031967163\n"
          ],
          "name": "stdout"
        }
      ]
    }
  ]
}